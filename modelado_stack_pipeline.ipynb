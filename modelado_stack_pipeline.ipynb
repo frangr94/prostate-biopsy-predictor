{
 "cells": [
  {
   "cell_type": "code",
   "execution_count": 823,
   "metadata": {},
   "outputs": [],
   "source": [
    "import pandas as pd\n",
    "import numpy as np"
   ]
  },
  {
   "cell_type": "code",
   "execution_count": 824,
   "metadata": {},
   "outputs": [
    {
     "data": {
      "text/html": [
       "<div>\n",
       "<style scoped>\n",
       "    .dataframe tbody tr th:only-of-type {\n",
       "        vertical-align: middle;\n",
       "    }\n",
       "\n",
       "    .dataframe tbody tr th {\n",
       "        vertical-align: top;\n",
       "    }\n",
       "\n",
       "    .dataframe thead th {\n",
       "        text-align: right;\n",
       "    }\n",
       "</style>\n",
       "<table border=\"1\" class=\"dataframe\">\n",
       "  <thead>\n",
       "    <tr style=\"text-align: right;\">\n",
       "      <th></th>\n",
       "      <th>muestrasTomadas</th>\n",
       "      <th>diabetes</th>\n",
       "      <th>hospitalizacionUltimoMes</th>\n",
       "      <th>antibioticoProfilaxis_OROQUINOLONAS</th>\n",
       "      <th>itu</th>\n",
       "      <th>tipoCultivo_HEMOCULTIVO</th>\n",
       "      <th>tipoCultivo_HEMOCULTIVO Y UROCULTIVO</th>\n",
       "      <th>tipoCultivo_UROCULTIVO</th>\n",
       "      <th>agenteAislado_E.COLI</th>\n",
       "      <th>agenteAislado_PSEUDOMONAS AERUGINOSA</th>\n",
       "      <th>patronResistencia_ AMPI R, CIPRO R, GENTA R, SULFA M R</th>\n",
       "      <th>patronResistencia_MULTI SENSIBLE</th>\n",
       "      <th>patronResistencia_RESISTENTE A AMPI, CIPRO Y GENTA</th>\n",
       "      <th>patronResistencia_RESISTENTE A AMPI, SULFA, CEFADROXILO, CEFUROXIMO, CIPRO Y CEFEPIME, CEFOTAXIMA</th>\n",
       "      <th>hospitalizacion</th>\n",
       "      <th>psa</th>\n",
       "      <th>antibioticoProfilaxis_OTROS</th>\n",
       "      <th>tipoCultivo_NO</th>\n",
       "      <th>agenteAislado_NO</th>\n",
       "      <th>patronResistencia_NO</th>\n",
       "    </tr>\n",
       "  </thead>\n",
       "  <tbody>\n",
       "    <tr>\n",
       "      <th>0</th>\n",
       "      <td>12.0</td>\n",
       "      <td>0</td>\n",
       "      <td>0</td>\n",
       "      <td>0</td>\n",
       "      <td>0</td>\n",
       "      <td>0</td>\n",
       "      <td>0</td>\n",
       "      <td>0</td>\n",
       "      <td>0</td>\n",
       "      <td>0</td>\n",
       "      <td>0</td>\n",
       "      <td>0</td>\n",
       "      <td>0</td>\n",
       "      <td>0</td>\n",
       "      <td>1</td>\n",
       "      <td>1.386294</td>\n",
       "      <td>0</td>\n",
       "      <td>1</td>\n",
       "      <td>1</td>\n",
       "      <td>1</td>\n",
       "    </tr>\n",
       "    <tr>\n",
       "      <th>1</th>\n",
       "      <td>12.0</td>\n",
       "      <td>0</td>\n",
       "      <td>0</td>\n",
       "      <td>0</td>\n",
       "      <td>0</td>\n",
       "      <td>0</td>\n",
       "      <td>0</td>\n",
       "      <td>0</td>\n",
       "      <td>0</td>\n",
       "      <td>0</td>\n",
       "      <td>0</td>\n",
       "      <td>0</td>\n",
       "      <td>0</td>\n",
       "      <td>0</td>\n",
       "      <td>1</td>\n",
       "      <td>2.041220</td>\n",
       "      <td>0</td>\n",
       "      <td>1</td>\n",
       "      <td>1</td>\n",
       "      <td>1</td>\n",
       "    </tr>\n",
       "    <tr>\n",
       "      <th>2</th>\n",
       "      <td>24.0</td>\n",
       "      <td>0</td>\n",
       "      <td>0</td>\n",
       "      <td>0</td>\n",
       "      <td>0</td>\n",
       "      <td>1</td>\n",
       "      <td>0</td>\n",
       "      <td>0</td>\n",
       "      <td>1</td>\n",
       "      <td>0</td>\n",
       "      <td>1</td>\n",
       "      <td>0</td>\n",
       "      <td>0</td>\n",
       "      <td>0</td>\n",
       "      <td>1</td>\n",
       "      <td>3.367296</td>\n",
       "      <td>0</td>\n",
       "      <td>0</td>\n",
       "      <td>0</td>\n",
       "      <td>0</td>\n",
       "    </tr>\n",
       "    <tr>\n",
       "      <th>3</th>\n",
       "      <td>12.0</td>\n",
       "      <td>0</td>\n",
       "      <td>0</td>\n",
       "      <td>0</td>\n",
       "      <td>0</td>\n",
       "      <td>0</td>\n",
       "      <td>0</td>\n",
       "      <td>0</td>\n",
       "      <td>0</td>\n",
       "      <td>0</td>\n",
       "      <td>0</td>\n",
       "      <td>0</td>\n",
       "      <td>0</td>\n",
       "      <td>0</td>\n",
       "      <td>1</td>\n",
       "      <td>1.945910</td>\n",
       "      <td>0</td>\n",
       "      <td>1</td>\n",
       "      <td>1</td>\n",
       "      <td>1</td>\n",
       "    </tr>\n",
       "    <tr>\n",
       "      <th>4</th>\n",
       "      <td>24.0</td>\n",
       "      <td>0</td>\n",
       "      <td>0</td>\n",
       "      <td>0</td>\n",
       "      <td>0</td>\n",
       "      <td>1</td>\n",
       "      <td>0</td>\n",
       "      <td>0</td>\n",
       "      <td>1</td>\n",
       "      <td>0</td>\n",
       "      <td>0</td>\n",
       "      <td>0</td>\n",
       "      <td>0</td>\n",
       "      <td>0</td>\n",
       "      <td>1</td>\n",
       "      <td>3.367296</td>\n",
       "      <td>0</td>\n",
       "      <td>0</td>\n",
       "      <td>0</td>\n",
       "      <td>1</td>\n",
       "    </tr>\n",
       "  </tbody>\n",
       "</table>\n",
       "</div>"
      ],
      "text/plain": [
       "   muestrasTomadas  diabetes  hospitalizacionUltimoMes  \\\n",
       "0             12.0         0                         0   \n",
       "1             12.0         0                         0   \n",
       "2             24.0         0                         0   \n",
       "3             12.0         0                         0   \n",
       "4             24.0         0                         0   \n",
       "\n",
       "   antibioticoProfilaxis_OROQUINOLONAS  itu  tipoCultivo_HEMOCULTIVO  \\\n",
       "0                                    0    0                        0   \n",
       "1                                    0    0                        0   \n",
       "2                                    0    0                        1   \n",
       "3                                    0    0                        0   \n",
       "4                                    0    0                        1   \n",
       "\n",
       "   tipoCultivo_HEMOCULTIVO Y UROCULTIVO  tipoCultivo_UROCULTIVO  \\\n",
       "0                                     0                       0   \n",
       "1                                     0                       0   \n",
       "2                                     0                       0   \n",
       "3                                     0                       0   \n",
       "4                                     0                       0   \n",
       "\n",
       "   agenteAislado_E.COLI  agenteAislado_PSEUDOMONAS AERUGINOSA  \\\n",
       "0                     0                                     0   \n",
       "1                     0                                     0   \n",
       "2                     1                                     0   \n",
       "3                     0                                     0   \n",
       "4                     1                                     0   \n",
       "\n",
       "   patronResistencia_ AMPI R, CIPRO R, GENTA R, SULFA M R  \\\n",
       "0                                                  0        \n",
       "1                                                  0        \n",
       "2                                                  1        \n",
       "3                                                  0        \n",
       "4                                                  0        \n",
       "\n",
       "   patronResistencia_MULTI SENSIBLE  \\\n",
       "0                                 0   \n",
       "1                                 0   \n",
       "2                                 0   \n",
       "3                                 0   \n",
       "4                                 0   \n",
       "\n",
       "   patronResistencia_RESISTENTE A AMPI, CIPRO Y GENTA  \\\n",
       "0                                                  0    \n",
       "1                                                  0    \n",
       "2                                                  0    \n",
       "3                                                  0    \n",
       "4                                                  0    \n",
       "\n",
       "   patronResistencia_RESISTENTE A AMPI, SULFA, CEFADROXILO, CEFUROXIMO, CIPRO Y CEFEPIME, CEFOTAXIMA  \\\n",
       "0                                                  0                                                   \n",
       "1                                                  0                                                   \n",
       "2                                                  0                                                   \n",
       "3                                                  0                                                   \n",
       "4                                                  0                                                   \n",
       "\n",
       "   hospitalizacion       psa  antibioticoProfilaxis_OTROS  tipoCultivo_NO  \\\n",
       "0                1  1.386294                            0               1   \n",
       "1                1  2.041220                            0               1   \n",
       "2                1  3.367296                            0               0   \n",
       "3                1  1.945910                            0               1   \n",
       "4                1  3.367296                            0               0   \n",
       "\n",
       "   agenteAislado_NO  patronResistencia_NO  \n",
       "0                 1                     1  \n",
       "1                 1                     1  \n",
       "2                 0                     0  \n",
       "3                 1                     1  \n",
       "4                 0                     1  "
      ]
     },
     "execution_count": 824,
     "metadata": {},
     "output_type": "execute_result"
    }
   ],
   "source": [
    "df=pd.read_csv('hospitalizacion_modelado.csv')\n",
    "df.head()\n",
    "\n",
    "# voy a observar que sucede si no tomo dias complicacion (la definicion es algo ambigua y no se entiende de donde sale)\n",
    "# ademas de que al parecer overfitea el modelo\n"
   ]
  },
  {
   "cell_type": "code",
   "execution_count": 825,
   "metadata": {},
   "outputs": [],
   "source": [
    "from sklearn.preprocessing import StandardScaler\n",
    "scaler = StandardScaler()\n",
    "\n",
    "# voy a escalar estas variables para evitar sesgos en el modelo\n",
    "df['muestrasTomadas'] = scaler.fit_transform(np.reshape(df['muestrasTomadas'],(-1,1))).ravel()\n",
    "df['psa'] = scaler.fit_transform(np.reshape(df['psa'],(-1,1))).ravel()\n"
   ]
  },
  {
   "cell_type": "code",
   "execution_count": 826,
   "metadata": {},
   "outputs": [
    {
     "name": "stdout",
     "output_type": "stream",
     "text": [
      "<class 'pandas.core.frame.DataFrame'>\n",
      "RangeIndex: 523 entries, 0 to 522\n",
      "Data columns (total 20 columns):\n",
      " #   Column                                                                                             Non-Null Count  Dtype  \n",
      "---  ------                                                                                             --------------  -----  \n",
      " 0   muestrasTomadas                                                                                    523 non-null    float64\n",
      " 1   diabetes                                                                                           523 non-null    int64  \n",
      " 2   hospitalizacionUltimoMes                                                                           523 non-null    int64  \n",
      " 3   antibioticoProfilaxis_OROQUINOLONAS                                                                523 non-null    int64  \n",
      " 4   itu                                                                                                523 non-null    int64  \n",
      " 5   tipoCultivo_HEMOCULTIVO                                                                            523 non-null    int64  \n",
      " 6   tipoCultivo_HEMOCULTIVO Y UROCULTIVO                                                               523 non-null    int64  \n",
      " 7   tipoCultivo_UROCULTIVO                                                                             523 non-null    int64  \n",
      " 8   agenteAislado_E.COLI                                                                               523 non-null    int64  \n",
      " 9   agenteAislado_PSEUDOMONAS AERUGINOSA                                                               523 non-null    int64  \n",
      " 10  patronResistencia_ AMPI R, CIPRO R, GENTA R, SULFA M R                                             523 non-null    int64  \n",
      " 11  patronResistencia_MULTI SENSIBLE                                                                   523 non-null    int64  \n",
      " 12  patronResistencia_RESISTENTE A AMPI, CIPRO Y GENTA                                                 523 non-null    int64  \n",
      " 13  patronResistencia_RESISTENTE A AMPI, SULFA, CEFADROXILO, CEFUROXIMO, CIPRO Y CEFEPIME, CEFOTAXIMA  523 non-null    int64  \n",
      " 14  hospitalizacion                                                                                    523 non-null    int64  \n",
      " 15  psa                                                                                                523 non-null    float64\n",
      " 16  antibioticoProfilaxis_OTROS                                                                        523 non-null    int64  \n",
      " 17  tipoCultivo_NO                                                                                     523 non-null    int64  \n",
      " 18  agenteAislado_NO                                                                                   523 non-null    int64  \n",
      " 19  patronResistencia_NO                                                                               523 non-null    int64  \n",
      "dtypes: float64(2), int64(18)\n",
      "memory usage: 81.8 KB\n"
     ]
    }
   ],
   "source": [
    "df.info()"
   ]
  },
  {
   "cell_type": "code",
   "execution_count": 827,
   "metadata": {},
   "outputs": [],
   "source": [
    "x=[]\n",
    "for i in df:\n",
    "    if (i!='hospitalizacion'):\n",
    "        x.append(np.array(df[i]).reshape(-1,1))\n",
    "\n",
    "X=np.hstack(x)\n",
    "y=np.array(df.hospitalizacion).reshape(-1,1)"
   ]
  },
  {
   "cell_type": "code",
   "execution_count": 828,
   "metadata": {},
   "outputs": [
    {
     "name": "stdout",
     "output_type": "stream",
     "text": [
      "value_counts y: (array([0, 1]), array([500, 500]))\n",
      "len X: 1000\n"
     ]
    }
   ],
   "source": [
    "from imblearn.over_sampling import RandomOverSampler\n",
    "\n",
    "ros = RandomOverSampler(sampling_strategy='not majority',random_state=42)\n",
    "\n",
    "X , y = ros.fit_resample(X,y)\n",
    "\n",
    "# verificar el oversampling\n",
    "print('value_counts y:',np.unique(y,return_counts=True))\n",
    "print('len X:',len(X))"
   ]
  },
  {
   "cell_type": "code",
   "execution_count": 829,
   "metadata": {},
   "outputs": [
    {
     "data": {
      "text/plain": [
       "'from sklearn.decomposition import TruncatedSVD\\nsvd=TruncatedSVD(n_components=15,n_iter=2,random_state=42)\\nX=svd.fit_transform(X)'"
      ]
     },
     "execution_count": 829,
     "metadata": {},
     "output_type": "execute_result"
    }
   ],
   "source": [
    "'''from sklearn.decomposition import TruncatedSVD\n",
    "svd=TruncatedSVD(n_components=15,n_iter=2,random_state=42)\n",
    "X=svd.fit_transform(X)'''"
   ]
  },
  {
   "cell_type": "code",
   "execution_count": 830,
   "metadata": {},
   "outputs": [],
   "source": [
    "from sklearn.model_selection import train_test_split\n",
    "\n",
    "X_Train, X_Test, Y_Train, Y_Test = train_test_split(X, y, test_size=0.25, random_state=42)"
   ]
  },
  {
   "cell_type": "code",
   "execution_count": 831,
   "metadata": {},
   "outputs": [
    {
     "name": "stdout",
     "output_type": "stream",
     "text": [
      "accuracy_score con datos de entrenamiento 0.8773333333333333\n",
      "accuracy score con datos de entrenamiento 0.852\n"
     ]
    }
   ],
   "source": [
    "# primero voy a probar un DecisionTreeClassifier aislado\n",
    "from sklearn.tree import DecisionTreeClassifier\n",
    "from sklearn.metrics import accuracy_score,r2_score,classification_report\n",
    "\n",
    "arbol = DecisionTreeClassifier(max_depth=6)\n",
    "\n",
    "arbol.fit(X_Train,Y_Train)\n",
    "\n",
    "Y_Pred_Arbol = arbol.predict(X_Train)\n",
    "\n",
    "Y_Test_Pred_Arbol = arbol.predict(X_Test)\n",
    "\n",
    "print('accuracy_score con datos de entrenamiento',accuracy_score(Y_Train,Y_Pred_Arbol))\n",
    "print('accuracy score con datos de entrenamiento',accuracy_score(Y_Test,Y_Test_Pred_Arbol))"
   ]
  },
  {
   "cell_type": "code",
   "execution_count": 832,
   "metadata": {},
   "outputs": [
    {
     "name": "stdout",
     "output_type": "stream",
     "text": [
      "              precision    recall  f1-score   support\n",
      "\n",
      "           0       1.00      0.76      0.86       377\n",
      "           1       0.80      1.00      0.89       373\n",
      "\n",
      "    accuracy                           0.88       750\n",
      "   macro avg       0.90      0.88      0.88       750\n",
      "weighted avg       0.90      0.88      0.88       750\n",
      "\n"
     ]
    }
   ],
   "source": [
    "# el modelo presenta overfitting (es \"demasiado\" bueno prediciendo verdaderos negativos)\n",
    "print(classification_report(Y_Train,Y_Pred_Arbol))"
   ]
  },
  {
   "cell_type": "code",
   "execution_count": 833,
   "metadata": {},
   "outputs": [],
   "source": [
    "from sklearn.ensemble import StackingClassifier\n",
    "from sklearn.linear_model import LogisticRegression\n",
    "from sklearn.neighbors import KNeighborsClassifier\n",
    "from sklearn.svm import SVC\n",
    "\n",
    "estimator_list = [('arbol_decision',DecisionTreeClassifier(max_depth=3)),\n",
    "                  ('vecinos',KNeighborsClassifier(n_neighbors=4)),\n",
    "                  ('SVC',SVC(C=1))\n",
    "                  ]\n",
    "\n",
    "stack_model = StackingClassifier(estimator_list,final_estimator=LogisticRegression())\n",
    "\n",
    "stack_model.fit(X_Train,Y_Train)\n",
    "\n",
    "Y_Pred = stack_model.predict(X_Train)\n",
    "\n",
    "Y_Test_Pred = stack_model.predict(X_Test)"
   ]
  },
  {
   "cell_type": "code",
   "execution_count": 834,
   "metadata": {},
   "outputs": [
    {
     "name": "stdout",
     "output_type": "stream",
     "text": [
      "accuracy score con datos de entrenamiento 0.928\n",
      "accuracy score con datos de prueba 0.868\n",
      "r2 score con datos de entrenamiento 0.7119918077669765\n",
      "r2 score con datos de prueba 0.4718647973881315\n"
     ]
    }
   ],
   "source": [
    "print('accuracy score con datos de entrenamiento',accuracy_score(Y_Train,Y_Pred))\n",
    "print('accuracy score con datos de prueba',accuracy_score(Y_Test,Y_Test_Pred))\n",
    "print('r2 score con datos de entrenamiento',r2_score(Y_Train,Y_Pred))\n",
    "print('r2 score con datos de prueba',r2_score(Y_Test,Y_Test_Pred))\n",
    "\n"
   ]
  },
  {
   "cell_type": "code",
   "execution_count": 835,
   "metadata": {},
   "outputs": [
    {
     "name": "stdout",
     "output_type": "stream",
     "text": [
      "              precision    recall  f1-score   support\n",
      "\n",
      "           0       0.92      0.93      0.93       377\n",
      "           1       0.93      0.92      0.93       373\n",
      "\n",
      "    accuracy                           0.93       750\n",
      "   macro avg       0.93      0.93      0.93       750\n",
      "weighted avg       0.93      0.93      0.93       750\n",
      "\n"
     ]
    }
   ],
   "source": [
    "# se puede ver que el stacking ha disminuido sensiblemente el overfitting del modelo, a la vez que ha mejorado su precision\n",
    "print(classification_report(Y_Train,Y_Pred))\n"
   ]
  },
  {
   "cell_type": "code",
   "execution_count": 836,
   "metadata": {},
   "outputs": [],
   "source": [
    "# creo un pipeline\n",
    "from sklearn.pipeline import Pipeline\n",
    "\n",
    "pipe_stack = Pipeline([('stack',stack_model)])"
   ]
  },
  {
   "cell_type": "code",
   "execution_count": 837,
   "metadata": {},
   "outputs": [
    {
     "data": {
      "text/plain": [
       "['pipe_stack.pkl']"
      ]
     },
     "execution_count": 837,
     "metadata": {},
     "output_type": "execute_result"
    }
   ],
   "source": [
    "import joblib\n",
    "\n",
    "joblib.dump(pipe_stack, 'pipe_stack.pkl', compress=1)"
   ]
  },
  {
   "cell_type": "code",
   "execution_count": 838,
   "metadata": {},
   "outputs": [
    {
     "data": {
      "text/plain": [
       "array([-0.2794328 ,  0.        ,  0.        ,  0.        ,  0.        ,\n",
       "        0.        ,  0.        ,  0.        ,  0.        ,  0.        ,\n",
       "        0.        ,  0.        ,  0.        ,  0.        , -0.19914784,\n",
       "        0.        ,  1.        ,  1.        ,  1.        ])"
      ]
     },
     "execution_count": 838,
     "metadata": {},
     "output_type": "execute_result"
    }
   ],
   "source": [
    "X[1]"
   ]
  },
  {
   "cell_type": "code",
   "execution_count": 839,
   "metadata": {},
   "outputs": [],
   "source": [
    "modelo = joblib.load('pipe_stack.pkl')"
   ]
  },
  {
   "cell_type": "code",
   "execution_count": 840,
   "metadata": {},
   "outputs": [
    {
     "data": {
      "text/plain": [
       "0.868"
      ]
     },
     "execution_count": 840,
     "metadata": {},
     "output_type": "execute_result"
    }
   ],
   "source": [
    "modelo.score(X_Test,Y_Test)"
   ]
  },
  {
   "cell_type": "code",
   "execution_count": 841,
   "metadata": {},
   "outputs": [
    {
     "data": {
      "text/plain": [
       "array([-0.2794328 ,  0.        ,  0.        ,  0.        ,  0.        ,\n",
       "        0.        ,  0.        ,  0.        ,  0.        ,  0.        ,\n",
       "        0.        ,  0.        ,  0.        ,  0.        ,  1.56999262,\n",
       "        0.        ,  1.        ,  1.        ,  1.        ])"
      ]
     },
     "execution_count": 841,
     "metadata": {},
     "output_type": "execute_result"
    }
   ],
   "source": [
    "X[37]"
   ]
  },
  {
   "cell_type": "code",
   "execution_count": 842,
   "metadata": {},
   "outputs": [
    {
     "data": {
      "text/plain": [
       "array([0])"
      ]
     },
     "execution_count": 842,
     "metadata": {},
     "output_type": "execute_result"
    }
   ],
   "source": [
    "# veamos si el modelo esta haciendo buenas predicciones\n",
    "modelo.predict([[-0.2794328 ,  0.        ,  0.        ,  0.        ,  0.        ,\n",
    "        0.        ,  0.        ,  0.        ,  0.        ,  0.        ,\n",
    "        0.        ,  0.        ,  0.        ,  0.        ,  1.56999262,\n",
    "        0.        ,  1.        ,  1.        ,  1.         ]])"
   ]
  },
  {
   "cell_type": "code",
   "execution_count": 843,
   "metadata": {},
   "outputs": [
    {
     "data": {
      "text/plain": [
       "0"
      ]
     },
     "execution_count": 843,
     "metadata": {},
     "output_type": "execute_result"
    }
   ],
   "source": [
    "# al parecer si, ya que me devuelve el valor esperado en y\n",
    "y[37]"
   ]
  },
  {
   "cell_type": "code",
   "execution_count": null,
   "metadata": {},
   "outputs": [],
   "source": []
  }
 ],
 "metadata": {
  "kernelspec": {
   "display_name": "Python 3",
   "language": "python",
   "name": "python3"
  },
  "language_info": {
   "codemirror_mode": {
    "name": "ipython",
    "version": 3
   },
   "file_extension": ".py",
   "mimetype": "text/x-python",
   "name": "python",
   "nbconvert_exporter": "python",
   "pygments_lexer": "ipython3",
   "version": "3.10.6"
  },
  "orig_nbformat": 4
 },
 "nbformat": 4,
 "nbformat_minor": 2
}
